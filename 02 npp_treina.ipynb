{
 "cells": [
  {
   "cell_type": "markdown",
   "metadata": {},
   "source": [
    "- ## Escolha do modelo\n",
    "- ## Treinamento do modelo\n",
    "- ## Teste do modelo\n",
    "- ## Armazenamento do modelo"
   ]
  },
  {
   "cell_type": "code",
   "execution_count": 71,
   "metadata": {},
   "outputs": [],
   "source": [
    "# maximiza nro de linhas e colunas para exibição\n",
    "# inibe mensagens de warning\n",
    "import pandas as pd\n",
    "pd.set_option('display.max_rows', None) # permite a máxima visualização das linhas em um display\n",
    "pd.set_option('display.max_columns', None) # permite a máxima visualização das colunas em um display\n",
    "import warnings\n",
    "warnings.simplefilter('ignore') # inibe a exibição de avisos de warning\n",
    "warnings.filterwarnings('ignore') # inibe a exibição de avisos de warning"
   ]
  },
  {
   "cell_type": "code",
   "execution_count": 72,
   "metadata": {},
   "outputs": [],
   "source": [
    "# modelos de classificação\n",
    "from sklearn.linear_model import LogisticRegression # estimar a probabilidade de um determinado resultado com base em variáveis independentes\n",
    "from sklearn.tree import DecisionTreeClassifier # usado tanto para classificação binária quanto multiclass, permitindo a previsão de rótulos variados\n",
    "from sklearn.neighbors import KNeighborsClassifier # classificador que implementa o voto dos k-vizinhos mais próximos\n",
    "from sklearn.discriminant_analysis import LinearDiscriminantAnalysis # classificador com uma fronteira de decisão linear, ajustando as densidades condicionais das classes aos dados e utilizando a regra de Bayes\n",
    "from sklearn.naive_bayes import GaussianNB # algoritmo de classificação probabilístico que se baseia no teorema de Bayes\n",
    "from sklearn.svm import SVC # utilizado para classificação, que baseia-se na criação de um hiperplano em um espaço de múltiplas dimensões para separar diferentes classes\n",
    "from sklearn.neural_network import MLPClassifier # utiliza uma rede neural de múltiplas camadas, e é especialmente otimizado para a função de log-loss utilizando técnicas como LBFGS ou descida de gradiente estocástico\n",
    "from sklearn.ensemble import AdaBoostClassifier # aprendizado supervisionado não paramétrico utilizado para classificação, que cria um modelo preditivo com base em classificadores simples\n",
    "from sklearn.ensemble import GradientBoostingClassifier # cria um modelo aditivo de forma progressiva, permitindo a otimização de funções de perda diferenciáveis. É eficaz para problemas de classificação\n",
    "from sklearn.ensemble import RandomForestClassifier # utiliza uma combinação de várias árvores de decisão para realizar tarefas de classificação, melhorando a precisão dos resultados\n",
    "from sklearn.ensemble import ExtraTreesClassifier # classificador de árvores de decisão extremamente aleatórias, que se diferencia das árvores de decisão tradicionais ao construir múltiplas árvores de forma aleatória"
   ]
  },
  {
   "cell_type": "code",
   "execution_count": 73,
   "metadata": {},
   "outputs": [],
   "source": [
    "# modelos de aprendizado profundo\n",
    "from keras.models import Sequential # permite agrupar uma pilha linear de camadas em um modelo, facilitando a construção de redes neurais\n",
    "from keras.layers import Dense # camada fundamental em redes neurais, onde cada neurônio está conectado a todos os neurônios da camada anterior, o que a torna amplamente utilizada em redes de múltiplas camadas\n",
    "from keras.optimizers import SGD # otimizador usado em Keras que atualiza os parâmetros com base no gradiente e na taxa de aprendizado definida\n",
    "from scikeras.wrappers import KerasClassifier # permite usar modelos Keras em bibliotecas como scikit-learn, facilitando a integração com técnicas como validação cruzada e ajuste de hiperparâmetros\n",
    "from tensorflow.keras.optimizers import Adam # método de descida de gradiente estocástico que usa estimativas adaptativas de momentos de primeira e segunda ordem"
   ]
  },
  {
   "cell_type": "code",
   "execution_count": 74,
   "metadata": {},
   "outputs": [],
   "source": [
    "# análise de dados e avaliação dos modelos\n",
    "from sklearn.model_selection import train_test_split # utilizada para dividir conjuntos de dados em subconjuntos de treino e teste, ajudando na validação de modelos\n",
    "from sklearn.model_selection import KFold # técnica de validação cruzada que divide um conjunto de dados em 'k' subconjuntos (folds) para treinar e testar modelos, garantindo que cada exemplo seja usado para treinamento e teste\n",
    "from sklearn.model_selection import cross_val_score # avalia o desempenho de um estimador usando validação cruzada. Ela divide os dados em k partes e treina o modelo k vezes\n",
    "from sklearn.model_selection import GridSearchCV # realizar uma busca exaustiva sobre combinações de parâmetros especificados para um estimador. Ele ajuda a otimizar o desempenho do modelo\n",
    "from sklearn.metrics import confusion_matrix # tabela que é usada em problemas de classificação para avaliar onde ocorreram erros no modelo, com as linhas representando as classes reais e as colunas as classes previstas\n",
    "from sklearn.metrics import accuracy_score # métrica utilizada para avaliar o desempenho de modelos de classificação, representando a fração de previsões corretas em relação ao total de previsões feitas"
   ]
  },
  {
   "cell_type": "code",
   "execution_count": 75,
   "metadata": {},
   "outputs": [],
   "source": [
    "# preparação e visualização de dados\n",
    "import numpy as np # computaçaõ de matrizes\n",
    "from matplotlib import pyplot # plotagem gráfica\n",
    "import seaborn as sns # plotagem gráfica"
   ]
  },
  {
   "cell_type": "code",
   "execution_count": 76,
   "metadata": {},
   "outputs": [],
   "source": [
    "# carregando arquivo tratado em dataframe\n",
    "df_emprestimo_trans = pd.read_csv('df_treated/df_emprestimo_trans.csv')"
   ]
  },
  {
   "cell_type": "code",
   "execution_count": 77,
   "metadata": {},
   "outputs": [
    {
     "data": {
      "text/plain": [
       "(8815, 34)"
      ]
     },
     "execution_count": 77,
     "metadata": {},
     "output_type": "execute_result"
    }
   ],
   "source": [
    "# conferindo a dimensão do dataframe, linhas e colunas\n",
    "df_emprestimo_trans.shape"
   ]
  },
  {
   "cell_type": "code",
   "execution_count": 78,
   "metadata": {},
   "outputs": [],
   "source": [
    "# ordenando pelo index o dataframe carregado\n",
    "df_emprestimo_trans = df_emprestimo_trans.sort_index()"
   ]
  },
  {
   "cell_type": "code",
   "execution_count": 79,
   "metadata": {},
   "outputs": [
    {
     "data": {
      "text/html": [
       "<div>\n",
       "<style scoped>\n",
       "    .dataframe tbody tr th:only-of-type {\n",
       "        vertical-align: middle;\n",
       "    }\n",
       "\n",
       "    .dataframe tbody tr th {\n",
       "        vertical-align: top;\n",
       "    }\n",
       "\n",
       "    .dataframe thead th {\n",
       "        text-align: right;\n",
       "    }\n",
       "</style>\n",
       "<table border=\"1\" class=\"dataframe\">\n",
       "  <thead>\n",
       "    <tr style=\"text-align: right;\">\n",
       "      <th></th>\n",
       "      <th>utilizacao</th>\n",
       "      <th>tx_juros</th>\n",
       "      <th>vr_parcelas</th>\n",
       "      <th>log_renda_anual</th>\n",
       "      <th>idx_div_renda</th>\n",
       "      <th>pont_mutuario</th>\n",
       "      <th>saldo_rotativo</th>\n",
       "      <th>tx_util_credito</th>\n",
       "      <th>tx_juros_faixa</th>\n",
       "      <th>vr_parcelas_faixa</th>\n",
       "      <th>log_renda_anual_faixa</th>\n",
       "      <th>idx_div_renda_faixa</th>\n",
       "      <th>pont_mutuario_faixa</th>\n",
       "      <th>log_saldo_rotativo</th>\n",
       "      <th>log_saldo_rotativo_faixa</th>\n",
       "      <th>tx_util_credito_faixa</th>\n",
       "      <th>devedor</th>\n",
       "      <th>atende_criterios</th>\n",
       "      <th>consult_mutuario_cred</th>\n",
       "      <th>nro_reg_deprec</th>\n",
       "      <th>0-1__utilizacao_all_other</th>\n",
       "      <th>0-1__utilizacao_credit_card</th>\n",
       "      <th>0-1__utilizacao_debt_consolidation</th>\n",
       "      <th>0-1__utilizacao_educational</th>\n",
       "      <th>0-1__utilizacao_home_improvement</th>\n",
       "      <th>0-1__utilizacao_major_purchase</th>\n",
       "      <th>0-1__utilizacao_small_business</th>\n",
       "      <th>ord__tx_juros_faixa</th>\n",
       "      <th>ord__vr_parcelas_faixa</th>\n",
       "      <th>ord__log_renda_anual_faixa</th>\n",
       "      <th>ord__idx_div_renda_faixa</th>\n",
       "      <th>ord__pont_mutuario_faixa</th>\n",
       "      <th>ord__log_saldo_rotativo_faixa</th>\n",
       "      <th>ord__tx_util_credito_faixa</th>\n",
       "    </tr>\n",
       "  </thead>\n",
       "  <tbody>\n",
       "    <tr>\n",
       "      <th>0</th>\n",
       "      <td>debt_consolidation</td>\n",
       "      <td>12.0</td>\n",
       "      <td>829.0</td>\n",
       "      <td>11.0</td>\n",
       "      <td>19.0</td>\n",
       "      <td>802.0</td>\n",
       "      <td>28854.0</td>\n",
       "      <td>52.1</td>\n",
       "      <td>(10.0, 12.0]</td>\n",
       "      <td>(780.0, 910.0]</td>\n",
       "      <td>(10.0, 11.0]</td>\n",
       "      <td>(18.0, 19.0]</td>\n",
       "      <td>(800, 802]</td>\n",
       "      <td>4.0</td>\n",
       "      <td>(3.0, 6.0]</td>\n",
       "      <td>(45.0, 60.0]</td>\n",
       "      <td>0.0</td>\n",
       "      <td>1.0</td>\n",
       "      <td>0.0</td>\n",
       "      <td>0.0</td>\n",
       "      <td>0.0</td>\n",
       "      <td>0.0</td>\n",
       "      <td>1.0</td>\n",
       "      <td>0.0</td>\n",
       "      <td>0.0</td>\n",
       "      <td>0.0</td>\n",
       "      <td>0.0</td>\n",
       "      <td>2.0</td>\n",
       "      <td>6.0</td>\n",
       "      <td>1.0</td>\n",
       "      <td>17.0</td>\n",
       "      <td>20.0</td>\n",
       "      <td>1.0</td>\n",
       "      <td>3.0</td>\n",
       "    </tr>\n",
       "    <tr>\n",
       "      <th>1</th>\n",
       "      <td>credit_card</td>\n",
       "      <td>11.0</td>\n",
       "      <td>228.0</td>\n",
       "      <td>11.0</td>\n",
       "      <td>14.0</td>\n",
       "      <td>707.0</td>\n",
       "      <td>33623.0</td>\n",
       "      <td>76.7</td>\n",
       "      <td>(10.0, 12.0]</td>\n",
       "      <td>(130.0, 260.0]</td>\n",
       "      <td>(10.0, 11.0]</td>\n",
       "      <td>(13.0, 14.0]</td>\n",
       "      <td>(706, 708]</td>\n",
       "      <td>5.0</td>\n",
       "      <td>(3.0, 6.0]</td>\n",
       "      <td>(75.0, 90.0]</td>\n",
       "      <td>0.0</td>\n",
       "      <td>1.0</td>\n",
       "      <td>0.0</td>\n",
       "      <td>0.0</td>\n",
       "      <td>0.0</td>\n",
       "      <td>1.0</td>\n",
       "      <td>0.0</td>\n",
       "      <td>0.0</td>\n",
       "      <td>0.0</td>\n",
       "      <td>0.0</td>\n",
       "      <td>0.0</td>\n",
       "      <td>2.0</td>\n",
       "      <td>1.0</td>\n",
       "      <td>1.0</td>\n",
       "      <td>12.0</td>\n",
       "      <td>10.0</td>\n",
       "      <td>1.0</td>\n",
       "      <td>5.0</td>\n",
       "    </tr>\n",
       "    <tr>\n",
       "      <th>2</th>\n",
       "      <td>debt_consolidation</td>\n",
       "      <td>14.0</td>\n",
       "      <td>367.0</td>\n",
       "      <td>10.0</td>\n",
       "      <td>12.0</td>\n",
       "      <td>682.0</td>\n",
       "      <td>3511.0</td>\n",
       "      <td>25.6</td>\n",
       "      <td>(14.0, 16.0]</td>\n",
       "      <td>(260.0, 390.0]</td>\n",
       "      <td>(9.0, 10.0]</td>\n",
       "      <td>(11.0, 12.0]</td>\n",
       "      <td>(680, 682]</td>\n",
       "      <td>4.0</td>\n",
       "      <td>(3.0, 6.0]</td>\n",
       "      <td>(15.0, 30.0]</td>\n",
       "      <td>0.0</td>\n",
       "      <td>1.0</td>\n",
       "      <td>1.0</td>\n",
       "      <td>0.0</td>\n",
       "      <td>0.0</td>\n",
       "      <td>0.0</td>\n",
       "      <td>1.0</td>\n",
       "      <td>0.0</td>\n",
       "      <td>0.0</td>\n",
       "      <td>0.0</td>\n",
       "      <td>0.0</td>\n",
       "      <td>4.0</td>\n",
       "      <td>2.0</td>\n",
       "      <td>0.0</td>\n",
       "      <td>10.0</td>\n",
       "      <td>5.0</td>\n",
       "      <td>1.0</td>\n",
       "      <td>1.0</td>\n",
       "    </tr>\n",
       "    <tr>\n",
       "      <th>3</th>\n",
       "      <td>debt_consolidation</td>\n",
       "      <td>10.0</td>\n",
       "      <td>162.0</td>\n",
       "      <td>11.0</td>\n",
       "      <td>8.0</td>\n",
       "      <td>712.0</td>\n",
       "      <td>33667.0</td>\n",
       "      <td>73.2</td>\n",
       "      <td>(8.0, 10.0]</td>\n",
       "      <td>(130.0, 260.0]</td>\n",
       "      <td>(10.0, 11.0]</td>\n",
       "      <td>(7.0, 8.0]</td>\n",
       "      <td>(710, 712]</td>\n",
       "      <td>5.0</td>\n",
       "      <td>(3.0, 6.0]</td>\n",
       "      <td>(60.0, 75.0]</td>\n",
       "      <td>0.0</td>\n",
       "      <td>1.0</td>\n",
       "      <td>1.0</td>\n",
       "      <td>0.0</td>\n",
       "      <td>0.0</td>\n",
       "      <td>0.0</td>\n",
       "      <td>1.0</td>\n",
       "      <td>0.0</td>\n",
       "      <td>0.0</td>\n",
       "      <td>0.0</td>\n",
       "      <td>0.0</td>\n",
       "      <td>1.0</td>\n",
       "      <td>1.0</td>\n",
       "      <td>1.0</td>\n",
       "      <td>6.0</td>\n",
       "      <td>11.0</td>\n",
       "      <td>1.0</td>\n",
       "      <td>4.0</td>\n",
       "    </tr>\n",
       "    <tr>\n",
       "      <th>4</th>\n",
       "      <td>credit_card</td>\n",
       "      <td>14.0</td>\n",
       "      <td>103.0</td>\n",
       "      <td>11.0</td>\n",
       "      <td>15.0</td>\n",
       "      <td>667.0</td>\n",
       "      <td>4740.0</td>\n",
       "      <td>39.5</td>\n",
       "      <td>(14.0, 16.0]</td>\n",
       "      <td>(0.0, 130.0]</td>\n",
       "      <td>(10.0, 11.0]</td>\n",
       "      <td>(14.0, 15.0]</td>\n",
       "      <td>(666, 668]</td>\n",
       "      <td>4.0</td>\n",
       "      <td>(3.0, 6.0]</td>\n",
       "      <td>(30.0, 45.0]</td>\n",
       "      <td>0.0</td>\n",
       "      <td>1.0</td>\n",
       "      <td>0.0</td>\n",
       "      <td>0.0</td>\n",
       "      <td>0.0</td>\n",
       "      <td>1.0</td>\n",
       "      <td>0.0</td>\n",
       "      <td>0.0</td>\n",
       "      <td>0.0</td>\n",
       "      <td>0.0</td>\n",
       "      <td>0.0</td>\n",
       "      <td>4.0</td>\n",
       "      <td>0.0</td>\n",
       "      <td>1.0</td>\n",
       "      <td>13.0</td>\n",
       "      <td>2.0</td>\n",
       "      <td>1.0</td>\n",
       "      <td>2.0</td>\n",
       "    </tr>\n",
       "  </tbody>\n",
       "</table>\n",
       "</div>"
      ],
      "text/plain": [
       "           utilizacao  tx_juros  vr_parcelas  log_renda_anual  idx_div_renda  \\\n",
       "0  debt_consolidation      12.0        829.0             11.0           19.0   \n",
       "1         credit_card      11.0        228.0             11.0           14.0   \n",
       "2  debt_consolidation      14.0        367.0             10.0           12.0   \n",
       "3  debt_consolidation      10.0        162.0             11.0            8.0   \n",
       "4         credit_card      14.0        103.0             11.0           15.0   \n",
       "\n",
       "   pont_mutuario  saldo_rotativo  tx_util_credito tx_juros_faixa  \\\n",
       "0          802.0         28854.0             52.1   (10.0, 12.0]   \n",
       "1          707.0         33623.0             76.7   (10.0, 12.0]   \n",
       "2          682.0          3511.0             25.6   (14.0, 16.0]   \n",
       "3          712.0         33667.0             73.2    (8.0, 10.0]   \n",
       "4          667.0          4740.0             39.5   (14.0, 16.0]   \n",
       "\n",
       "  vr_parcelas_faixa log_renda_anual_faixa idx_div_renda_faixa  \\\n",
       "0    (780.0, 910.0]          (10.0, 11.0]        (18.0, 19.0]   \n",
       "1    (130.0, 260.0]          (10.0, 11.0]        (13.0, 14.0]   \n",
       "2    (260.0, 390.0]           (9.0, 10.0]        (11.0, 12.0]   \n",
       "3    (130.0, 260.0]          (10.0, 11.0]          (7.0, 8.0]   \n",
       "4      (0.0, 130.0]          (10.0, 11.0]        (14.0, 15.0]   \n",
       "\n",
       "  pont_mutuario_faixa  log_saldo_rotativo log_saldo_rotativo_faixa  \\\n",
       "0          (800, 802]                 4.0               (3.0, 6.0]   \n",
       "1          (706, 708]                 5.0               (3.0, 6.0]   \n",
       "2          (680, 682]                 4.0               (3.0, 6.0]   \n",
       "3          (710, 712]                 5.0               (3.0, 6.0]   \n",
       "4          (666, 668]                 4.0               (3.0, 6.0]   \n",
       "\n",
       "  tx_util_credito_faixa  devedor  atende_criterios  consult_mutuario_cred  \\\n",
       "0          (45.0, 60.0]      0.0               1.0                    0.0   \n",
       "1          (75.0, 90.0]      0.0               1.0                    0.0   \n",
       "2          (15.0, 30.0]      0.0               1.0                    1.0   \n",
       "3          (60.0, 75.0]      0.0               1.0                    1.0   \n",
       "4          (30.0, 45.0]      0.0               1.0                    0.0   \n",
       "\n",
       "   nro_reg_deprec  0-1__utilizacao_all_other  0-1__utilizacao_credit_card  \\\n",
       "0             0.0                        0.0                          0.0   \n",
       "1             0.0                        0.0                          1.0   \n",
       "2             0.0                        0.0                          0.0   \n",
       "3             0.0                        0.0                          0.0   \n",
       "4             0.0                        0.0                          1.0   \n",
       "\n",
       "   0-1__utilizacao_debt_consolidation  0-1__utilizacao_educational  \\\n",
       "0                                 1.0                          0.0   \n",
       "1                                 0.0                          0.0   \n",
       "2                                 1.0                          0.0   \n",
       "3                                 1.0                          0.0   \n",
       "4                                 0.0                          0.0   \n",
       "\n",
       "   0-1__utilizacao_home_improvement  0-1__utilizacao_major_purchase  \\\n",
       "0                               0.0                             0.0   \n",
       "1                               0.0                             0.0   \n",
       "2                               0.0                             0.0   \n",
       "3                               0.0                             0.0   \n",
       "4                               0.0                             0.0   \n",
       "\n",
       "   0-1__utilizacao_small_business  ord__tx_juros_faixa  \\\n",
       "0                             0.0                  2.0   \n",
       "1                             0.0                  2.0   \n",
       "2                             0.0                  4.0   \n",
       "3                             0.0                  1.0   \n",
       "4                             0.0                  4.0   \n",
       "\n",
       "   ord__vr_parcelas_faixa  ord__log_renda_anual_faixa  \\\n",
       "0                     6.0                         1.0   \n",
       "1                     1.0                         1.0   \n",
       "2                     2.0                         0.0   \n",
       "3                     1.0                         1.0   \n",
       "4                     0.0                         1.0   \n",
       "\n",
       "   ord__idx_div_renda_faixa  ord__pont_mutuario_faixa  \\\n",
       "0                      17.0                      20.0   \n",
       "1                      12.0                      10.0   \n",
       "2                      10.0                       5.0   \n",
       "3                       6.0                      11.0   \n",
       "4                      13.0                       2.0   \n",
       "\n",
       "   ord__log_saldo_rotativo_faixa  ord__tx_util_credito_faixa  \n",
       "0                            1.0                         3.0  \n",
       "1                            1.0                         5.0  \n",
       "2                            1.0                         1.0  \n",
       "3                            1.0                         4.0  \n",
       "4                            1.0                         2.0  "
      ]
     },
     "execution_count": 79,
     "metadata": {},
     "output_type": "execute_result"
    }
   ],
   "source": [
    "# reconhecendo as primeiras linhas do dataframe\n",
    "df_emprestimo_trans.head(5)"
   ]
  },
  {
   "cell_type": "code",
   "execution_count": 80,
   "metadata": {},
   "outputs": [
    {
     "name": "stdout",
     "output_type": "stream",
     "text": [
      "<class 'pandas.core.frame.DataFrame'>\n",
      "RangeIndex: 8815 entries, 0 to 8814\n",
      "Data columns (total 34 columns):\n",
      " #   Column                              Non-Null Count  Dtype  \n",
      "---  ------                              --------------  -----  \n",
      " 0   utilizacao                          8815 non-null   object \n",
      " 1   tx_juros                            8815 non-null   float64\n",
      " 2   vr_parcelas                         8815 non-null   float64\n",
      " 3   log_renda_anual                     8815 non-null   float64\n",
      " 4   idx_div_renda                       8815 non-null   float64\n",
      " 5   pont_mutuario                       8815 non-null   float64\n",
      " 6   saldo_rotativo                      8815 non-null   float64\n",
      " 7   tx_util_credito                     8815 non-null   float64\n",
      " 8   tx_juros_faixa                      8815 non-null   object \n",
      " 9   vr_parcelas_faixa                   8815 non-null   object \n",
      " 10  log_renda_anual_faixa               8815 non-null   object \n",
      " 11  idx_div_renda_faixa                 8815 non-null   object \n",
      " 12  pont_mutuario_faixa                 8815 non-null   object \n",
      " 13  log_saldo_rotativo                  8815 non-null   float64\n",
      " 14  log_saldo_rotativo_faixa            8815 non-null   object \n",
      " 15  tx_util_credito_faixa               8815 non-null   object \n",
      " 16  devedor                             8815 non-null   float64\n",
      " 17  atende_criterios                    8815 non-null   float64\n",
      " 18  consult_mutuario_cred               8815 non-null   float64\n",
      " 19  nro_reg_deprec                      8815 non-null   float64\n",
      " 20  0-1__utilizacao_all_other           8815 non-null   float64\n",
      " 21  0-1__utilizacao_credit_card         8815 non-null   float64\n",
      " 22  0-1__utilizacao_debt_consolidation  8815 non-null   float64\n",
      " 23  0-1__utilizacao_educational         8815 non-null   float64\n",
      " 24  0-1__utilizacao_home_improvement    8815 non-null   float64\n",
      " 25  0-1__utilizacao_major_purchase      8815 non-null   float64\n",
      " 26  0-1__utilizacao_small_business      8815 non-null   float64\n",
      " 27  ord__tx_juros_faixa                 8815 non-null   float64\n",
      " 28  ord__vr_parcelas_faixa              8815 non-null   float64\n",
      " 29  ord__log_renda_anual_faixa          8815 non-null   float64\n",
      " 30  ord__idx_div_renda_faixa            8815 non-null   float64\n",
      " 31  ord__pont_mutuario_faixa            8815 non-null   float64\n",
      " 32  ord__log_saldo_rotativo_faixa       8815 non-null   float64\n",
      " 33  ord__tx_util_credito_faixa          8815 non-null   float64\n",
      "dtypes: float64(26), object(8)\n",
      "memory usage: 2.3+ MB\n"
     ]
    }
   ],
   "source": [
    "# verificando a posição de cada variável\n",
    "df_emprestimo_trans.info()"
   ]
  },
  {
   "cell_type": "code",
   "execution_count": 81,
   "metadata": {},
   "outputs": [],
   "source": [
    "# separando variáveis independentes(x) e dependente(y)(target)\n",
    "X = df_emprestimo_trans[list(df_emprestimo_trans.columns[17:])]\n",
    "y = df_emprestimo_trans[['devedor']]"
   ]
  },
  {
   "cell_type": "markdown",
   "metadata": {},
   "source": [
    "- As variáveis que serão utilizadas no treinamento dos nossos modelos são as localizadas a partir da posição 16 do .info(), sendo a variável 'devedor' a target e as demais de 17 até 33 as variáveis independes todas categóricas sendo que as posicionadas de 17 a 19 são categóricas originais e de 20 até 33 são categóricas transformadas."
   ]
  },
  {
   "cell_type": "code",
   "execution_count": 82,
   "metadata": {},
   "outputs": [
    {
     "name": "stdout",
     "output_type": "stream",
     "text": [
      "<class 'pandas.core.frame.DataFrame'>\n",
      "RangeIndex: 8815 entries, 0 to 8814\n",
      "Data columns (total 17 columns):\n",
      " #   Column                              Non-Null Count  Dtype  \n",
      "---  ------                              --------------  -----  \n",
      " 0   atende_criterios                    8815 non-null   float64\n",
      " 1   consult_mutuario_cred               8815 non-null   float64\n",
      " 2   nro_reg_deprec                      8815 non-null   float64\n",
      " 3   0-1__utilizacao_all_other           8815 non-null   float64\n",
      " 4   0-1__utilizacao_credit_card         8815 non-null   float64\n",
      " 5   0-1__utilizacao_debt_consolidation  8815 non-null   float64\n",
      " 6   0-1__utilizacao_educational         8815 non-null   float64\n",
      " 7   0-1__utilizacao_home_improvement    8815 non-null   float64\n",
      " 8   0-1__utilizacao_major_purchase      8815 non-null   float64\n",
      " 9   0-1__utilizacao_small_business      8815 non-null   float64\n",
      " 10  ord__tx_juros_faixa                 8815 non-null   float64\n",
      " 11  ord__vr_parcelas_faixa              8815 non-null   float64\n",
      " 12  ord__log_renda_anual_faixa          8815 non-null   float64\n",
      " 13  ord__idx_div_renda_faixa            8815 non-null   float64\n",
      " 14  ord__pont_mutuario_faixa            8815 non-null   float64\n",
      " 15  ord__log_saldo_rotativo_faixa       8815 non-null   float64\n",
      " 16  ord__tx_util_credito_faixa          8815 non-null   float64\n",
      "dtypes: float64(17)\n",
      "memory usage: 1.1 MB\n",
      "X= None\n",
      "<class 'pandas.core.frame.DataFrame'>\n",
      "RangeIndex: 8815 entries, 0 to 8814\n",
      "Data columns (total 1 columns):\n",
      " #   Column   Non-Null Count  Dtype  \n",
      "---  ------   --------------  -----  \n",
      " 0   devedor  8815 non-null   float64\n",
      "dtypes: float64(1)\n",
      "memory usage: 69.0 KB\n",
      "y= None\n"
     ]
    }
   ],
   "source": [
    "# visualizando as variáveis independentes(x) e dependente(y)\n",
    "print('X=', X.info())\n",
    "print('y=', y.info())"
   ]
  },
  {
   "cell_type": "code",
   "execution_count": 83,
   "metadata": {},
   "outputs": [],
   "source": [
    "# setting hiperparâmetros para definir o tamanho das amostras\n",
    "validation_size = 0.2 \n",
    "seed = 42"
   ]
  },
  {
   "cell_type": "code",
   "execution_count": 84,
   "metadata": {},
   "outputs": [],
   "source": [
    "# separando os sets de treino e teste em 20% para teste e 80% para treino\n",
    "X_train, X_test, Y_train, Y_test = train_test_split(X, y, test_size=validation_size, random_state=seed)"
   ]
  },
  {
   "cell_type": "code",
   "execution_count": 85,
   "metadata": {},
   "outputs": [],
   "source": [
    "# hiperparâmetros do Cross Validation\n",
    "num_folds = 10 \n",
    "scoring = 'roc_auc'"
   ]
  },
  {
   "cell_type": "code",
   "execution_count": 86,
   "metadata": {},
   "outputs": [],
   "source": [
    "# Função para criar modelo, necessária para o KerasClassifier \n",
    "def create_model(neurons=12, activation='relu', learn_rate = 0.01, momentum=0.0): \n",
    "\n",
    "# criar modelo \n",
    "    model = Sequential() \n",
    "    model.add(Dense(X_train.shape[1], input_dim=X_train.shape[1], activation=activation)) \n",
    "    model.add(Dense(32,activation=activation))\n",
    "    model.add(Dense(1, activation='sigmoid')) \n",
    "\n",
    "# Compilar modelo \n",
    "    optimizer = SGD(learning_rate=learn_rate, momentum=momentum) \n",
    "    model.compile(loss='binary_crossentropy', optimizer='adam', metrics=['accuracy']) \n",
    "    return model "
   ]
  },
  {
   "cell_type": "code",
   "execution_count": 87,
   "metadata": {},
   "outputs": [],
   "source": [
    "# implementando os modelos de ML\n",
    "models = [] \n",
    "models.append(('LR', LogisticRegression())) \n",
    "models.append(('LDA', LinearDiscriminantAnalysis())) \n",
    "models.append(('KNN', KNeighborsClassifier()))\n",
    "\n",
    "models.append(('CART', DecisionTreeClassifier())) \n",
    "models.append(('NB', GaussianNB())) \n",
    "\n",
    "# Rede Neural \n",
    "models.append(('NN', MLPClassifier())) \n",
    "\n",
    "# Modelos Ensemble \n",
    "# Métodos Boosting \n",
    "models.append(('AB', AdaBoostClassifier())) \n",
    "models.append(('GBM', GradientBoostingClassifier())) \n",
    "\n",
    "# Métodos Bagging \n",
    "models.append(('RF', RandomForestClassifier()))\n",
    "models.append(('ET', ExtraTreesClassifier()))\n",
    "\n",
    "# Aprendizado Profundo\n",
    "models.append(('DNN', KerasClassifier(build_fn=create_model, epochs=50, batch_size=10, verbose=0) ))"
   ]
  },
  {
   "cell_type": "markdown",
   "metadata": {},
   "source": [
    "- Foi criado uma lista de modelos para automatizar o treinamento e a avaliação de todos eles, evitando que o trabalho fosse feito repetidamente de forma manual, tornando o trabalho mais rápido e preciso."
   ]
  },
  {
   "cell_type": "markdown",
   "metadata": {},
   "source": [
    "### Treinando os Modelos"
   ]
  },
  {
   "cell_type": "code",
   "execution_count": 88,
   "metadata": {},
   "outputs": [
    {
     "name": "stdout",
     "output_type": "stream",
     "text": [
      "LR\n",
      "fim LR\n",
      "LDA\n",
      "fim LDA\n",
      "KNN\n",
      "fim KNN\n",
      "CART\n",
      "fim CART\n",
      "NB\n",
      "fim NB\n",
      "NN\n",
      "fim NN\n",
      "AB\n",
      "fim AB\n",
      "GBM\n",
      "fim GBM\n",
      "RF\n",
      "fim RF\n",
      "ET\n",
      "fim ET\n",
      "DNN\n",
      "fim DNN\n"
     ]
    }
   ],
   "source": [
    "# obtendo os scores do k-fold\n",
    "# treinando os modelos\n",
    "names = []\n",
    "kfold_results = []\n",
    "test_results = []\n",
    "train_results = []\n",
    "\n",
    "for name, model in models:\n",
    "    names.append(name)\n",
    "\n",
    "    print(name)\n",
    "\n",
    "    # análise k-fold\n",
    "    kfold = KFold(n_splits=num_folds, random_state=None)\n",
    "\n",
    "    # erro quadrático médio convertido para positivo. Quanto menor melhor.\n",
    "    cv_results = cross_val_score(model, X_train, Y_train, cv= kfold, scoring=scoring, error_score='raise')\n",
    "    kfold_results.append(cv_results)\n",
    "\n",
    "    # período completo de treinamento\n",
    "    res = model.fit(X_train, Y_train)   \n",
    "\n",
    "    print('fim', name)"
   ]
  },
  {
   "cell_type": "code",
   "execution_count": 89,
   "metadata": {},
   "outputs": [
    {
     "data": {
      "image/png": "[encoded data removed]",
      "text/plain": [
       "<Figure size 1000x500 with 1 Axes>"
      ]
     },
     "metadata": {},
     "output_type": "display_data"
    }
   ],
   "source": [
    "# comparando resultados da validação cruzada\n",
    "# quanto maior o cross_val_score, o modelo é mais consistente e generalizável\n",
    "fig = pyplot.figure()\n",
    "fig.suptitle('Comparação dos Valores do Kfold')\n",
    "ax = fig.add_subplot(111)\n",
    "pyplot.boxplot(kfold_results)\n",
    "ax.set_xticklabels(names)\n",
    "fig.set_size_inches(10,5)\n",
    "pyplot.savefig('grafic_image/kfold.png', format='png')\n",
    "pyplot.show()"
   ]
  },
  {
   "cell_type": "markdown",
   "metadata": {},
   "source": [
    "- Um valor maior de cross_val_score geralmente sugere que o modelo se adapta melhor aos dados e apresenta um desempenho superior na validação cruzada. \n",
    "- GBM apresenta o melhor resultado do kfold, o maior valor e uma distribuição bem equilibrada, então seria até agora o escolhido baseados nessa avaliação."
   ]
  },
  {
   "cell_type": "code",
   "execution_count": 90,
   "metadata": {},
   "outputs": [
    {
     "name": "stdout",
     "output_type": "stream",
     "text": [
      "Best: 0.577459 using {'max_depth': 4, 'n_estimators': 140}\n"
     ]
    }
   ],
   "source": [
    "# Grid Search: fazendo o ajuste do GradientBoosting \n",
    "n_estimators = [180, 140] # quantidade de árvores (arvore de decisão)\n",
    "max_depth= [5, 4] # profundidade das árvores (arvore de decisão)\n",
    "\n",
    "param_grid = dict(n_estimators=n_estimators, max_depth=max_depth) \n",
    "model = GradientBoostingClassifier() \n",
    "kfold = KFold(n_splits=num_folds, random_state=seed, shuffle=True) \n",
    "grid = GridSearchCV(estimator=model, param_grid=param_grid, scoring=scoring, cv=kfold) \n",
    "grid_result = grid.fit(X_train, Y_train) \n",
    "print('Best: %f using %s' % (grid_result.best_score_, grid_result.best_params_))"
   ]
  },
  {
   "cell_type": "markdown",
   "metadata": {},
   "source": [
    "- Usamos o GridSearchCV para ajustar automaticamente os hiperparâmetros do modelo sendo o melhor resultado encontrado o seguinte, max_depth= 4, n_estimators= 140, então usaremos esses valores para treinar nosso modelo."
   ]
  },
  {
   "cell_type": "code",
   "execution_count": 91,
   "metadata": {},
   "outputs": [
    {
     "name": "stdout",
     "output_type": "stream",
     "text": [
      "0.8349404424276801\n"
     ]
    }
   ],
   "source": [
    "# treinando o modelo GBM\n",
    "# fazendo predição com dados de test\n",
    "# apurando a acurácia do modelo\n",
    "# resultados com o conjunto de teste\n",
    "model_GBM = GradientBoostingClassifier(max_depth= 4, n_estimators= 140) \n",
    "model_GBM.fit(X_train, Y_train) \n",
    "\n",
    "# estimar acurácia do conjunto de validação \n",
    "Y_pred = model_GBM.predict(X_test) \n",
    "print(accuracy_score(Y_test, Y_pred))"
   ]
  },
  {
   "cell_type": "markdown",
   "metadata": {},
   "source": [
    "- O nível da acurácia foi de 0.83 ou 83%, níveis entre 70% e 100%, pode-se considerar que há alta precisão dos resultados e baixo risco de erro.\n",
    "- Assim a acurácia do nosso trabalho ficando em 83% é uma ótima acurácia continuando a aprovar o modelo GBM a ser escolhido em nosso trabalho."
   ]
  },
  {
   "cell_type": "code",
   "execution_count": 92,
   "metadata": {},
   "outputs": [
    {
     "data": {
      "text/plain": [
       "array([[1461,   18],\n",
       "       [ 273,   11]], dtype=int64)"
      ]
     },
     "execution_count": 92,
     "metadata": {},
     "output_type": "execute_result"
    }
   ],
   "source": [
    "# gera a matriz de confusão para análise\n",
    "# a soma da diagonal principal sobre a soma total é o percentual de acerto (acurácia)\n",
    "cnf_matrix = confusion_matrix(Y_test, Y_pred)\n",
    "cnf_matrix"
   ]
  },
  {
   "cell_type": "markdown",
   "metadata": {},
   "source": [
    "- A matriz de confusão traz os valores onde podemos confirmar nossa acurácia: somando-se a diagonal principal e dividindo pela soma total DiagonalPrincipal / (DiagonalPrincipal + DiagonalSecundaria) da matriz de confusão chegamos ao valor de 0.83 ou 83%."
   ]
  },
  {
   "cell_type": "code",
   "execution_count": 93,
   "metadata": {},
   "outputs": [
    {
     "data": {
      "text/plain": [
       "<Axes: >"
      ]
     },
     "execution_count": 93,
     "metadata": {},
     "output_type": "execute_result"
    },
    {
     "data": {
      "image/png": "[encoded data removed]",
      "text/plain": [
       "<Figure size 640x480 with 2 Axes>"
      ]
     },
     "metadata": {},
     "output_type": "display_data"
    }
   ],
   "source": [
    "# plota o gráfico da matriz de confusão\n",
    "sns.heatmap(cnf_matrix, annot=True, cmap='Blues')"
   ]
  },
  {
   "cell_type": "markdown",
   "metadata": {},
   "source": [
    "- Pelas cores plotadas dos valores da matriz de confusão, observamos a predominância da cor escura (maior valor) na diagonal principal, TP e TN."
   ]
  },
  {
   "cell_type": "code",
   "execution_count": 94,
   "metadata": {},
   "outputs": [
    {
     "name": "stdout",
     "output_type": "stream",
     "text": [
      "[0.1460057  0.10390864 0.03445025 0.0164121  0.02316431 0.01597212\n",
      " 0.01016438 0.01510449 0.0056796  0.01989762 0.09393391 0.06094448\n",
      " 0.04519879 0.15499512 0.14464897 0.01898082 0.09053871]\n"
     ]
    },
    {
     "data": {
      "image/png": "[encoded data removed]",
      "text/plain": [
       "<Figure size 640x480 with 1 Axes>"
      ]
     },
     "metadata": {},
     "output_type": "display_data"
    }
   ],
   "source": [
    "# apurando os valores relativos a importância de cada variável no modelo para efeito de comparação entre elas\n",
    "# importância da variável do modelo treinado\n",
    "print(model_GBM.feature_importances_) \n",
    "\n",
    "#usar clase incorporada de importância dos features\n",
    "feat_importances = pd.Series(model_GBM.feature_importances_, index=X.columns) \n",
    "\n",
    "#plotar gráfico de importância de features para melhor visualização \n",
    "feat_importances.nlargest(17).plot(kind='barh') \n",
    "pyplot.show()"
   ]
  },
  {
   "cell_type": "markdown",
   "metadata": {},
   "source": [
    "- Através da plotagem acima vemos que as 5 variáveis de maior importância dentro do modelo GBM se destacam no final do gráfico, essa escala é de grande valia para que se dê mais atenção aos valores das variáveis com maior peso de importância."
   ]
  },
  {
   "cell_type": "code",
   "execution_count": 95,
   "metadata": {},
   "outputs": [
    {
     "name": "stdout",
     "output_type": "stream",
     "text": [
      "[0. 0. 0. ... 0. 0. 0.]\n"
     ]
    }
   ],
   "source": [
    "# visualiza a predição das probabilidades de y\n",
    "print(Y_pred)"
   ]
  },
  {
   "cell_type": "code",
   "execution_count": 96,
   "metadata": {},
   "outputs": [],
   "source": [
    "# transformando array em dataframe\n",
    "df_pred = pd.DataFrame(Y_pred)"
   ]
  },
  {
   "cell_type": "code",
   "execution_count": 97,
   "metadata": {},
   "outputs": [],
   "source": [
    "# renomeia as colunas de resultado da predição\n",
    "df_pred.columns = ['devedor_predict']"
   ]
  },
  {
   "cell_type": "code",
   "execution_count": 98,
   "metadata": {},
   "outputs": [
    {
     "data": {
      "text/plain": [
       "devedor_predict\n",
       "0.0                1734\n",
       "1.0                  29\n",
       "Name: count, dtype: int64"
      ]
     },
     "execution_count": 98,
     "metadata": {},
     "output_type": "execute_result"
    }
   ],
   "source": [
    "# visualizando os dados da predição - qtde de pessoas possíveis devedoras\n",
    "df_pred.value_counts()"
   ]
  },
  {
   "cell_type": "code",
   "execution_count": 99,
   "metadata": {},
   "outputs": [
    {
     "data": {
      "text/plain": [
       "(devedor_predict\n",
       " 0.0                98.355077\n",
       " 1.0                 1.644923\n",
       " Name: proportion, dtype: float64,\n",
       " '%')"
      ]
     },
     "execution_count": 99,
     "metadata": {},
     "output_type": "execute_result"
    }
   ],
   "source": [
    "# visualizando os dados da predição com a proporção percentual - % de pessoas possíveis devedoras\n",
    "df_pred.value_counts(normalize=True)*100, '%'"
   ]
  },
  {
   "cell_type": "markdown",
   "metadata": {},
   "source": [
    "- Nessa predição feita sobre a amostra de teste (Y_test) mostra o percentual de pessoas que seriam consideradas devedoras, assim como a quantidade dessas pessoas apresentada logo acima."
   ]
  },
  {
   "cell_type": "code",
   "execution_count": 100,
   "metadata": {},
   "outputs": [],
   "source": [
    "# junta o df da predição dos percentuais com o df de dados originais\n",
    "df_emprestimo_trans = pd.concat([df_emprestimo_trans, df_pred], axis=1)"
   ]
  },
  {
   "cell_type": "code",
   "execution_count": 101,
   "metadata": {},
   "outputs": [
    {
     "data": {
      "text/html": [
       "<div>\n",
       "<style scoped>\n",
       "    .dataframe tbody tr th:only-of-type {\n",
       "        vertical-align: middle;\n",
       "    }\n",
       "\n",
       "    .dataframe tbody tr th {\n",
       "        vertical-align: top;\n",
       "    }\n",
       "\n",
       "    .dataframe thead th {\n",
       "        text-align: right;\n",
       "    }\n",
       "</style>\n",
       "<table border=\"1\" class=\"dataframe\">\n",
       "  <thead>\n",
       "    <tr style=\"text-align: right;\">\n",
       "      <th></th>\n",
       "      <th>utilizacao</th>\n",
       "      <th>tx_juros</th>\n",
       "      <th>vr_parcelas</th>\n",
       "      <th>log_renda_anual</th>\n",
       "      <th>idx_div_renda</th>\n",
       "      <th>pont_mutuario</th>\n",
       "      <th>saldo_rotativo</th>\n",
       "      <th>tx_util_credito</th>\n",
       "      <th>tx_juros_faixa</th>\n",
       "      <th>vr_parcelas_faixa</th>\n",
       "      <th>log_renda_anual_faixa</th>\n",
       "      <th>idx_div_renda_faixa</th>\n",
       "      <th>pont_mutuario_faixa</th>\n",
       "      <th>log_saldo_rotativo</th>\n",
       "      <th>log_saldo_rotativo_faixa</th>\n",
       "      <th>tx_util_credito_faixa</th>\n",
       "      <th>devedor</th>\n",
       "      <th>atende_criterios</th>\n",
       "      <th>consult_mutuario_cred</th>\n",
       "      <th>nro_reg_deprec</th>\n",
       "      <th>0-1__utilizacao_all_other</th>\n",
       "      <th>0-1__utilizacao_credit_card</th>\n",
       "      <th>0-1__utilizacao_debt_consolidation</th>\n",
       "      <th>0-1__utilizacao_educational</th>\n",
       "      <th>0-1__utilizacao_home_improvement</th>\n",
       "      <th>0-1__utilizacao_major_purchase</th>\n",
       "      <th>0-1__utilizacao_small_business</th>\n",
       "      <th>ord__tx_juros_faixa</th>\n",
       "      <th>ord__vr_parcelas_faixa</th>\n",
       "      <th>ord__log_renda_anual_faixa</th>\n",
       "      <th>ord__idx_div_renda_faixa</th>\n",
       "      <th>ord__pont_mutuario_faixa</th>\n",
       "      <th>ord__log_saldo_rotativo_faixa</th>\n",
       "      <th>ord__tx_util_credito_faixa</th>\n",
       "      <th>devedor_predict</th>\n",
       "    </tr>\n",
       "  </thead>\n",
       "  <tbody>\n",
       "    <tr>\n",
       "      <th>0</th>\n",
       "      <td>debt_consolidation</td>\n",
       "      <td>12.0</td>\n",
       "      <td>829.0</td>\n",
       "      <td>11.0</td>\n",
       "      <td>19.0</td>\n",
       "      <td>802.0</td>\n",
       "      <td>28854.0</td>\n",
       "      <td>52.1</td>\n",
       "      <td>(10.0, 12.0]</td>\n",
       "      <td>(780.0, 910.0]</td>\n",
       "      <td>(10.0, 11.0]</td>\n",
       "      <td>(18.0, 19.0]</td>\n",
       "      <td>(800, 802]</td>\n",
       "      <td>4.0</td>\n",
       "      <td>(3.0, 6.0]</td>\n",
       "      <td>(45.0, 60.0]</td>\n",
       "      <td>0.0</td>\n",
       "      <td>1.0</td>\n",
       "      <td>0.0</td>\n",
       "      <td>0.0</td>\n",
       "      <td>0.0</td>\n",
       "      <td>0.0</td>\n",
       "      <td>1.0</td>\n",
       "      <td>0.0</td>\n",
       "      <td>0.0</td>\n",
       "      <td>0.0</td>\n",
       "      <td>0.0</td>\n",
       "      <td>2.0</td>\n",
       "      <td>6.0</td>\n",
       "      <td>1.0</td>\n",
       "      <td>17.0</td>\n",
       "      <td>20.0</td>\n",
       "      <td>1.0</td>\n",
       "      <td>3.0</td>\n",
       "      <td>0.0</td>\n",
       "    </tr>\n",
       "    <tr>\n",
       "      <th>1</th>\n",
       "      <td>credit_card</td>\n",
       "      <td>11.0</td>\n",
       "      <td>228.0</td>\n",
       "      <td>11.0</td>\n",
       "      <td>14.0</td>\n",
       "      <td>707.0</td>\n",
       "      <td>33623.0</td>\n",
       "      <td>76.7</td>\n",
       "      <td>(10.0, 12.0]</td>\n",
       "      <td>(130.0, 260.0]</td>\n",
       "      <td>(10.0, 11.0]</td>\n",
       "      <td>(13.0, 14.0]</td>\n",
       "      <td>(706, 708]</td>\n",
       "      <td>5.0</td>\n",
       "      <td>(3.0, 6.0]</td>\n",
       "      <td>(75.0, 90.0]</td>\n",
       "      <td>0.0</td>\n",
       "      <td>1.0</td>\n",
       "      <td>0.0</td>\n",
       "      <td>0.0</td>\n",
       "      <td>0.0</td>\n",
       "      <td>1.0</td>\n",
       "      <td>0.0</td>\n",
       "      <td>0.0</td>\n",
       "      <td>0.0</td>\n",
       "      <td>0.0</td>\n",
       "      <td>0.0</td>\n",
       "      <td>2.0</td>\n",
       "      <td>1.0</td>\n",
       "      <td>1.0</td>\n",
       "      <td>12.0</td>\n",
       "      <td>10.0</td>\n",
       "      <td>1.0</td>\n",
       "      <td>5.0</td>\n",
       "      <td>0.0</td>\n",
       "    </tr>\n",
       "    <tr>\n",
       "      <th>2</th>\n",
       "      <td>debt_consolidation</td>\n",
       "      <td>14.0</td>\n",
       "      <td>367.0</td>\n",
       "      <td>10.0</td>\n",
       "      <td>12.0</td>\n",
       "      <td>682.0</td>\n",
       "      <td>3511.0</td>\n",
       "      <td>25.6</td>\n",
       "      <td>(14.0, 16.0]</td>\n",
       "      <td>(260.0, 390.0]</td>\n",
       "      <td>(9.0, 10.0]</td>\n",
       "      <td>(11.0, 12.0]</td>\n",
       "      <td>(680, 682]</td>\n",
       "      <td>4.0</td>\n",
       "      <td>(3.0, 6.0]</td>\n",
       "      <td>(15.0, 30.0]</td>\n",
       "      <td>0.0</td>\n",
       "      <td>1.0</td>\n",
       "      <td>1.0</td>\n",
       "      <td>0.0</td>\n",
       "      <td>0.0</td>\n",
       "      <td>0.0</td>\n",
       "      <td>1.0</td>\n",
       "      <td>0.0</td>\n",
       "      <td>0.0</td>\n",
       "      <td>0.0</td>\n",
       "      <td>0.0</td>\n",
       "      <td>4.0</td>\n",
       "      <td>2.0</td>\n",
       "      <td>0.0</td>\n",
       "      <td>10.0</td>\n",
       "      <td>5.0</td>\n",
       "      <td>1.0</td>\n",
       "      <td>1.0</td>\n",
       "      <td>0.0</td>\n",
       "    </tr>\n",
       "    <tr>\n",
       "      <th>3</th>\n",
       "      <td>debt_consolidation</td>\n",
       "      <td>10.0</td>\n",
       "      <td>162.0</td>\n",
       "      <td>11.0</td>\n",
       "      <td>8.0</td>\n",
       "      <td>712.0</td>\n",
       "      <td>33667.0</td>\n",
       "      <td>73.2</td>\n",
       "      <td>(8.0, 10.0]</td>\n",
       "      <td>(130.0, 260.0]</td>\n",
       "      <td>(10.0, 11.0]</td>\n",
       "      <td>(7.0, 8.0]</td>\n",
       "      <td>(710, 712]</td>\n",
       "      <td>5.0</td>\n",
       "      <td>(3.0, 6.0]</td>\n",
       "      <td>(60.0, 75.0]</td>\n",
       "      <td>0.0</td>\n",
       "      <td>1.0</td>\n",
       "      <td>1.0</td>\n",
       "      <td>0.0</td>\n",
       "      <td>0.0</td>\n",
       "      <td>0.0</td>\n",
       "      <td>1.0</td>\n",
       "      <td>0.0</td>\n",
       "      <td>0.0</td>\n",
       "      <td>0.0</td>\n",
       "      <td>0.0</td>\n",
       "      <td>1.0</td>\n",
       "      <td>1.0</td>\n",
       "      <td>1.0</td>\n",
       "      <td>6.0</td>\n",
       "      <td>11.0</td>\n",
       "      <td>1.0</td>\n",
       "      <td>4.0</td>\n",
       "      <td>0.0</td>\n",
       "    </tr>\n",
       "    <tr>\n",
       "      <th>4</th>\n",
       "      <td>credit_card</td>\n",
       "      <td>14.0</td>\n",
       "      <td>103.0</td>\n",
       "      <td>11.0</td>\n",
       "      <td>15.0</td>\n",
       "      <td>667.0</td>\n",
       "      <td>4740.0</td>\n",
       "      <td>39.5</td>\n",
       "      <td>(14.0, 16.0]</td>\n",
       "      <td>(0.0, 130.0]</td>\n",
       "      <td>(10.0, 11.0]</td>\n",
       "      <td>(14.0, 15.0]</td>\n",
       "      <td>(666, 668]</td>\n",
       "      <td>4.0</td>\n",
       "      <td>(3.0, 6.0]</td>\n",
       "      <td>(30.0, 45.0]</td>\n",
       "      <td>0.0</td>\n",
       "      <td>1.0</td>\n",
       "      <td>0.0</td>\n",
       "      <td>0.0</td>\n",
       "      <td>0.0</td>\n",
       "      <td>1.0</td>\n",
       "      <td>0.0</td>\n",
       "      <td>0.0</td>\n",
       "      <td>0.0</td>\n",
       "      <td>0.0</td>\n",
       "      <td>0.0</td>\n",
       "      <td>4.0</td>\n",
       "      <td>0.0</td>\n",
       "      <td>1.0</td>\n",
       "      <td>13.0</td>\n",
       "      <td>2.0</td>\n",
       "      <td>1.0</td>\n",
       "      <td>2.0</td>\n",
       "      <td>0.0</td>\n",
       "    </tr>\n",
       "  </tbody>\n",
       "</table>\n",
       "</div>"
      ],
      "text/plain": [
       "           utilizacao  tx_juros  vr_parcelas  log_renda_anual  idx_div_renda  \\\n",
       "0  debt_consolidation      12.0        829.0             11.0           19.0   \n",
       "1         credit_card      11.0        228.0             11.0           14.0   \n",
       "2  debt_consolidation      14.0        367.0             10.0           12.0   \n",
       "3  debt_consolidation      10.0        162.0             11.0            8.0   \n",
       "4         credit_card      14.0        103.0             11.0           15.0   \n",
       "\n",
       "   pont_mutuario  saldo_rotativo  tx_util_credito tx_juros_faixa  \\\n",
       "0          802.0         28854.0             52.1   (10.0, 12.0]   \n",
       "1          707.0         33623.0             76.7   (10.0, 12.0]   \n",
       "2          682.0          3511.0             25.6   (14.0, 16.0]   \n",
       "3          712.0         33667.0             73.2    (8.0, 10.0]   \n",
       "4          667.0          4740.0             39.5   (14.0, 16.0]   \n",
       "\n",
       "  vr_parcelas_faixa log_renda_anual_faixa idx_div_renda_faixa  \\\n",
       "0    (780.0, 910.0]          (10.0, 11.0]        (18.0, 19.0]   \n",
       "1    (130.0, 260.0]          (10.0, 11.0]        (13.0, 14.0]   \n",
       "2    (260.0, 390.0]           (9.0, 10.0]        (11.0, 12.0]   \n",
       "3    (130.0, 260.0]          (10.0, 11.0]          (7.0, 8.0]   \n",
       "4      (0.0, 130.0]          (10.0, 11.0]        (14.0, 15.0]   \n",
       "\n",
       "  pont_mutuario_faixa  log_saldo_rotativo log_saldo_rotativo_faixa  \\\n",
       "0          (800, 802]                 4.0               (3.0, 6.0]   \n",
       "1          (706, 708]                 5.0               (3.0, 6.0]   \n",
       "2          (680, 682]                 4.0               (3.0, 6.0]   \n",
       "3          (710, 712]                 5.0               (3.0, 6.0]   \n",
       "4          (666, 668]                 4.0               (3.0, 6.0]   \n",
       "\n",
       "  tx_util_credito_faixa  devedor  atende_criterios  consult_mutuario_cred  \\\n",
       "0          (45.0, 60.0]      0.0               1.0                    0.0   \n",
       "1          (75.0, 90.0]      0.0               1.0                    0.0   \n",
       "2          (15.0, 30.0]      0.0               1.0                    1.0   \n",
       "3          (60.0, 75.0]      0.0               1.0                    1.0   \n",
       "4          (30.0, 45.0]      0.0               1.0                    0.0   \n",
       "\n",
       "   nro_reg_deprec  0-1__utilizacao_all_other  0-1__utilizacao_credit_card  \\\n",
       "0             0.0                        0.0                          0.0   \n",
       "1             0.0                        0.0                          1.0   \n",
       "2             0.0                        0.0                          0.0   \n",
       "3             0.0                        0.0                          0.0   \n",
       "4             0.0                        0.0                          1.0   \n",
       "\n",
       "   0-1__utilizacao_debt_consolidation  0-1__utilizacao_educational  \\\n",
       "0                                 1.0                          0.0   \n",
       "1                                 0.0                          0.0   \n",
       "2                                 1.0                          0.0   \n",
       "3                                 1.0                          0.0   \n",
       "4                                 0.0                          0.0   \n",
       "\n",
       "   0-1__utilizacao_home_improvement  0-1__utilizacao_major_purchase  \\\n",
       "0                               0.0                             0.0   \n",
       "1                               0.0                             0.0   \n",
       "2                               0.0                             0.0   \n",
       "3                               0.0                             0.0   \n",
       "4                               0.0                             0.0   \n",
       "\n",
       "   0-1__utilizacao_small_business  ord__tx_juros_faixa  \\\n",
       "0                             0.0                  2.0   \n",
       "1                             0.0                  2.0   \n",
       "2                             0.0                  4.0   \n",
       "3                             0.0                  1.0   \n",
       "4                             0.0                  4.0   \n",
       "\n",
       "   ord__vr_parcelas_faixa  ord__log_renda_anual_faixa  \\\n",
       "0                     6.0                         1.0   \n",
       "1                     1.0                         1.0   \n",
       "2                     2.0                         0.0   \n",
       "3                     1.0                         1.0   \n",
       "4                     0.0                         1.0   \n",
       "\n",
       "   ord__idx_div_renda_faixa  ord__pont_mutuario_faixa  \\\n",
       "0                      17.0                      20.0   \n",
       "1                      12.0                      10.0   \n",
       "2                      10.0                       5.0   \n",
       "3                       6.0                      11.0   \n",
       "4                      13.0                       2.0   \n",
       "\n",
       "   ord__log_saldo_rotativo_faixa  ord__tx_util_credito_faixa  devedor_predict  \n",
       "0                            1.0                         3.0              0.0  \n",
       "1                            1.0                         5.0              0.0  \n",
       "2                            1.0                         1.0              0.0  \n",
       "3                            1.0                         4.0              0.0  \n",
       "4                            1.0                         2.0              0.0  "
      ]
     },
     "execution_count": 101,
     "metadata": {},
     "output_type": "execute_result"
    }
   ],
   "source": [
    "# verifica as primeiras linhas do novo dataframe juntado\n",
    "df_emprestimo_trans.head(5)"
   ]
  },
  {
   "cell_type": "code",
   "execution_count": 102,
   "metadata": {},
   "outputs": [],
   "source": [
    "# salva os dados tratados em arquivo csv com a predição\n",
    "df_emprestimo_trans.sort_index().to_csv('df_treated/df_emprestimo_trans_pred.csv', index=False)"
   ]
  },
  {
   "cell_type": "markdown",
   "metadata": {},
   "source": [
    "## Faz o Deploy do Modelo"
   ]
  },
  {
   "cell_type": "code",
   "execution_count": 103,
   "metadata": {},
   "outputs": [
    {
     "data": {
      "text/plain": [
       "['model/GBM_emprestimo.pkl']"
      ]
     },
     "execution_count": 103,
     "metadata": {},
     "output_type": "execute_result"
    }
   ],
   "source": [
    "# faz o deploy do modelo para ser utilizado posteriormente\n",
    "from joblib import dump\n",
    "\n",
    "dump(model_GBM, 'model/GBM_emprestimo.pkl')"
   ]
  }
 ],
 "metadata": {
  "kernelspec": {
   "display_name": "Python 3",
   "language": "python",
   "name": "python3"
  },
  "language_info": {
   "codemirror_mode": {
    "name": "ipython",
    "version": 3
   },
   "file_extension": ".py",
   "mimetype": "text/x-python",
   "name": "python",
   "nbconvert_exporter": "python",
   "pygments_lexer": "ipython3",
   "version": "3.11.5"
  }
 },
 "nbformat": 4,
 "nbformat_minor": 2
}
